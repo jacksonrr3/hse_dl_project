{
 "cells": [
  {
   "cell_type": "code",
   "execution_count": 1,
   "metadata": {},
   "outputs": [
    {
     "name": "stdout",
     "output_type": "stream",
     "text": [
      "Collecting ultralytics\n",
      "  Downloading ultralytics-8.3.59-py3-none-any.whl (906 kB)\n",
      "\u001b[K     |████████████████████████████████| 906 kB 197 kB/s eta 0:00:01\n",
      "\u001b[?25hRequirement already satisfied, skipping upgrade: requests>=2.23.0 in /home/j4012-ind/.local/lib/python3.8/site-packages (from ultralytics) (2.32.3)\n",
      "Requirement already satisfied, skipping upgrade: numpy>=1.23.0 in /home/j4012-ind/.local/lib/python3.8/site-packages (from ultralytics) (1.23.5)\n",
      "Requirement already satisfied, skipping upgrade: scipy>=1.4.1 in /home/j4012-ind/.local/lib/python3.8/site-packages (from ultralytics) (1.10.1)\n",
      "Requirement already satisfied, skipping upgrade: opencv-python>=4.6.0 in /home/j4012-ind/.local/lib/python3.8/site-packages (from ultralytics) (4.10.0.84)\n",
      "Requirement already satisfied, skipping upgrade: tqdm>=4.64.0 in /home/j4012-ind/.local/lib/python3.8/site-packages (from ultralytics) (4.67.1)\n",
      "Requirement already satisfied, skipping upgrade: torch>=1.8.0 in /home/j4012-ind/.local/lib/python3.8/site-packages (from ultralytics) (2.1.0a0+41361538.nv23.6)\n",
      "Requirement already satisfied, skipping upgrade: torchvision>=0.9.0 in /home/j4012-ind/.local/lib/python3.8/site-packages/torchvision-0.16.2+c6f3977-py3.8-linux-aarch64.egg (from ultralytics) (0.16.2+c6f3977)\n",
      "Requirement already satisfied, skipping upgrade: seaborn>=0.11.0 in /home/j4012-ind/.local/lib/python3.8/site-packages (from ultralytics) (0.13.2)\n",
      "Requirement already satisfied, skipping upgrade: psutil in /home/j4012-ind/.local/lib/python3.8/site-packages (from ultralytics) (6.1.1)\n",
      "Requirement already satisfied, skipping upgrade: pillow>=7.1.2 in /home/j4012-ind/.local/lib/python3.8/site-packages (from ultralytics) (10.4.0)\n",
      "Requirement already satisfied, skipping upgrade: pandas>=1.1.4 in /home/j4012-ind/.local/lib/python3.8/site-packages (from ultralytics) (2.0.3)\n",
      "Requirement already satisfied, skipping upgrade: py-cpuinfo in /home/j4012-ind/.local/lib/python3.8/site-packages (from ultralytics) (9.0.0)\n",
      "Requirement already satisfied, skipping upgrade: pyyaml>=5.3.1 in /usr/lib/python3/dist-packages (from ultralytics) (5.3.1)\n",
      "Requirement already satisfied, skipping upgrade: matplotlib>=3.3.0 in /home/j4012-ind/.local/lib/python3.8/site-packages (from ultralytics) (3.7.5)\n",
      "Requirement already satisfied, skipping upgrade: ultralytics-thop>=2.0.0 in /home/j4012-ind/.local/lib/python3.8/site-packages (from ultralytics) (2.0.13)\n",
      "Requirement already satisfied, skipping upgrade: idna<4,>=2.5 in /usr/lib/python3/dist-packages (from requests>=2.23.0->ultralytics) (2.8)\n",
      "Requirement already satisfied, skipping upgrade: certifi>=2017.4.17 in /usr/lib/python3/dist-packages (from requests>=2.23.0->ultralytics) (2019.11.28)\n",
      "Requirement already satisfied, skipping upgrade: urllib3<3,>=1.21.1 in /usr/lib/python3/dist-packages (from requests>=2.23.0->ultralytics) (1.25.8)\n",
      "Requirement already satisfied, skipping upgrade: charset-normalizer<4,>=2 in /home/j4012-ind/.local/lib/python3.8/site-packages (from requests>=2.23.0->ultralytics) (3.4.0)\n",
      "Requirement already satisfied, skipping upgrade: sympy in /home/j4012-ind/.local/lib/python3.8/site-packages (from torch>=1.8.0->ultralytics) (1.13.3)\n",
      "Requirement already satisfied, skipping upgrade: networkx in /home/j4012-ind/.local/lib/python3.8/site-packages (from torch>=1.8.0->ultralytics) (3.1)\n",
      "Requirement already satisfied, skipping upgrade: fsspec in /home/j4012-ind/.local/lib/python3.8/site-packages (from torch>=1.8.0->ultralytics) (2024.12.0)\n",
      "Requirement already satisfied, skipping upgrade: typing-extensions in /home/j4012-ind/.local/lib/python3.8/site-packages (from torch>=1.8.0->ultralytics) (4.12.2)\n",
      "Requirement already satisfied, skipping upgrade: jinja2 in /home/j4012-ind/.local/lib/python3.8/site-packages (from torch>=1.8.0->ultralytics) (3.1.5)\n",
      "Requirement already satisfied, skipping upgrade: filelock in /home/j4012-ind/.local/lib/python3.8/site-packages (from torch>=1.8.0->ultralytics) (3.16.1)\n",
      "Requirement already satisfied, skipping upgrade: tzdata>=2022.1 in /home/j4012-ind/.local/lib/python3.8/site-packages (from pandas>=1.1.4->ultralytics) (2024.2)\n",
      "Requirement already satisfied, skipping upgrade: python-dateutil>=2.8.2 in /home/j4012-ind/.local/lib/python3.8/site-packages (from pandas>=1.1.4->ultralytics) (2.9.0.post0)\n",
      "Requirement already satisfied, skipping upgrade: pytz>=2020.1 in /home/j4012-ind/.local/lib/python3.8/site-packages (from pandas>=1.1.4->ultralytics) (2024.2)\n",
      "Requirement already satisfied, skipping upgrade: importlib-resources>=3.2.0; python_version < \"3.10\" in /home/j4012-ind/.local/lib/python3.8/site-packages (from matplotlib>=3.3.0->ultralytics) (6.4.5)\n",
      "Requirement already satisfied, skipping upgrade: cycler>=0.10 in /usr/lib/python3/dist-packages (from matplotlib>=3.3.0->ultralytics) (0.10.0)\n",
      "Requirement already satisfied, skipping upgrade: contourpy>=1.0.1 in /home/j4012-ind/.local/lib/python3.8/site-packages (from matplotlib>=3.3.0->ultralytics) (1.1.1)\n",
      "Requirement already satisfied, skipping upgrade: kiwisolver>=1.0.1 in /usr/lib/python3/dist-packages (from matplotlib>=3.3.0->ultralytics) (1.0.1)\n",
      "Requirement already satisfied, skipping upgrade: packaging>=20.0 in /home/j4012-ind/.local/lib/python3.8/site-packages (from matplotlib>=3.3.0->ultralytics) (24.2)\n",
      "Requirement already satisfied, skipping upgrade: fonttools>=4.22.0 in /home/j4012-ind/.local/lib/python3.8/site-packages (from matplotlib>=3.3.0->ultralytics) (4.55.3)\n",
      "Requirement already satisfied, skipping upgrade: pyparsing>=2.3.1 in /usr/lib/python3/dist-packages (from matplotlib>=3.3.0->ultralytics) (2.4.6)\n",
      "Requirement already satisfied, skipping upgrade: mpmath<1.4,>=1.1.0 in /home/j4012-ind/.local/lib/python3.8/site-packages (from sympy->torch>=1.8.0->ultralytics) (1.3.0)\n",
      "Requirement already satisfied, skipping upgrade: MarkupSafe>=2.0 in /home/j4012-ind/.local/lib/python3.8/site-packages (from jinja2->torch>=1.8.0->ultralytics) (2.1.5)\n",
      "Requirement already satisfied, skipping upgrade: six>=1.5 in /usr/lib/python3/dist-packages (from python-dateutil>=2.8.2->pandas>=1.1.4->ultralytics) (1.14.0)\n",
      "Requirement already satisfied, skipping upgrade: zipp>=3.1.0; python_version < \"3.10\" in /home/j4012-ind/.local/lib/python3.8/site-packages (from importlib-resources>=3.2.0; python_version < \"3.10\"->matplotlib>=3.3.0->ultralytics) (3.20.2)\n",
      "Installing collected packages: ultralytics\n",
      "  Attempting uninstall: ultralytics\n",
      "    Found existing installation: ultralytics 8.3.53\n",
      "    Uninstalling ultralytics-8.3.53:\n",
      "      Successfully uninstalled ultralytics-8.3.53\n",
      "Successfully installed ultralytics-8.3.59\n"
     ]
    }
   ],
   "source": [
    "!pip install -U ultralytics"
   ]
  },
  {
   "cell_type": "code",
   "execution_count": 1,
   "metadata": {},
   "outputs": [],
   "source": [
    "from ultralytics import YOLO"
   ]
  },
  {
   "cell_type": "code",
   "execution_count": 2,
   "metadata": {},
   "outputs": [],
   "source": [
    "model = YOLO(\"yolo11m.pt\")"
   ]
  },
  {
   "cell_type": "code",
   "execution_count": null,
   "metadata": {},
   "outputs": [
    {
     "name": "stdout",
     "output_type": "stream",
     "text": [
      "Ultralytics 8.3.59 🚀 Python-3.8.10 torch-2.1.0a0+41361538.nv23.06 CUDA:0 (Orin, 15389MiB)\n",
      "\u001b[34m\u001b[1mengine/trainer: \u001b[0mtask=detect, mode=train, model=yolo11m.pt, data=../dataset/yolo/data.yaml, epochs=1, time=None, patience=100, batch=16, imgsz=640, save=True, save_period=-1, cache=False, device=None, workers=8, project=None, name=train3, exist_ok=False, pretrained=True, optimizer=auto, verbose=True, seed=0, deterministic=True, single_cls=False, rect=False, cos_lr=False, close_mosaic=10, resume=False, amp=True, fraction=1.0, profile=False, freeze=None, multi_scale=False, overlap_mask=True, mask_ratio=4, dropout=0.0, val=True, split=val, save_json=False, save_hybrid=False, conf=None, iou=0.7, max_det=300, half=False, dnn=False, plots=True, source=None, vid_stride=1, stream_buffer=False, visualize=False, augment=False, agnostic_nms=False, classes=None, retina_masks=False, embed=None, show=False, save_frames=False, save_txt=False, save_conf=False, save_crop=False, show_labels=True, show_conf=True, show_boxes=True, line_width=None, format=torchscript, keras=False, optimize=False, int8=False, dynamic=False, simplify=True, opset=None, workspace=None, nms=False, lr0=0.01, lrf=0.01, momentum=0.937, weight_decay=0.0005, warmup_epochs=3.0, warmup_momentum=0.8, warmup_bias_lr=0.1, box=7.5, cls=0.5, dfl=1.5, pose=12.0, kobj=1.0, nbs=64, hsv_h=0.015, hsv_s=0.7, hsv_v=0.4, degrees=0.0, translate=0.1, scale=0.5, shear=0.0, perspective=0.0, flipud=0.0, fliplr=0.5, bgr=0.0, mosaic=1.0, mixup=0.0, copy_paste=0.0, copy_paste_mode=flip, auto_augment=randaugment, erasing=0.4, crop_fraction=1.0, cfg=None, tracker=botsort.yaml, save_dir=runs/detect/train3\n",
      "Overriding model.yaml nc=80 with nc=1\n",
      "\n",
      "                   from  n    params  module                                       arguments                     \n",
      "  0                  -1  1      1856  ultralytics.nn.modules.conv.Conv             [3, 64, 3, 2]                 \n",
      "  1                  -1  1     73984  ultralytics.nn.modules.conv.Conv             [64, 128, 3, 2]               \n",
      "  2                  -1  1    111872  ultralytics.nn.modules.block.C3k2            [128, 256, 1, True, 0.25]     \n",
      "  3                  -1  1    590336  ultralytics.nn.modules.conv.Conv             [256, 256, 3, 2]              \n",
      "  4                  -1  1    444928  ultralytics.nn.modules.block.C3k2            [256, 512, 1, True, 0.25]     \n",
      "  5                  -1  1   2360320  ultralytics.nn.modules.conv.Conv             [512, 512, 3, 2]              \n",
      "  6                  -1  1   1380352  ultralytics.nn.modules.block.C3k2            [512, 512, 1, True]           \n",
      "  7                  -1  1   2360320  ultralytics.nn.modules.conv.Conv             [512, 512, 3, 2]              \n",
      "  8                  -1  1   1380352  ultralytics.nn.modules.block.C3k2            [512, 512, 1, True]           \n",
      "  9                  -1  1    656896  ultralytics.nn.modules.block.SPPF            [512, 512, 5]                 \n",
      " 10                  -1  1    990976  ultralytics.nn.modules.block.C2PSA           [512, 512, 1]                 \n",
      " 11                  -1  1         0  torch.nn.modules.upsampling.Upsample         [None, 2, 'nearest']          \n",
      " 12             [-1, 6]  1         0  ultralytics.nn.modules.conv.Concat           [1]                           \n",
      " 13                  -1  1   1642496  ultralytics.nn.modules.block.C3k2            [1024, 512, 1, True]          \n",
      " 14                  -1  1         0  torch.nn.modules.upsampling.Upsample         [None, 2, 'nearest']          \n",
      " 15             [-1, 4]  1         0  ultralytics.nn.modules.conv.Concat           [1]                           \n",
      " 16                  -1  1    542720  ultralytics.nn.modules.block.C3k2            [1024, 256, 1, True]          \n",
      " 17                  -1  1    590336  ultralytics.nn.modules.conv.Conv             [256, 256, 3, 2]              \n",
      " 18            [-1, 13]  1         0  ultralytics.nn.modules.conv.Concat           [1]                           \n",
      " 19                  -1  1   1511424  ultralytics.nn.modules.block.C3k2            [768, 512, 1, True]           \n",
      " 20                  -1  1   2360320  ultralytics.nn.modules.conv.Conv             [512, 512, 3, 2]              \n",
      " 21            [-1, 10]  1         0  ultralytics.nn.modules.conv.Concat           [1]                           \n",
      " 22                  -1  1   1642496  ultralytics.nn.modules.block.C3k2            [1024, 512, 1, True]          \n",
      " 23        [16, 19, 22]  1   1411795  ultralytics.nn.modules.head.Detect           [1, [256, 512, 512]]          \n",
      "YOLO11m summary: 409 layers, 20,053,779 parameters, 20,053,763 gradients, 68.2 GFLOPs\n",
      "\n",
      "Transferred 643/649 items from pretrained weights\n",
      "\u001b[34m\u001b[1mTensorBoard: \u001b[0mStart with 'tensorboard --logdir runs/detect/train3', view at http://localhost:6006/\n",
      "Freezing layer 'model.23.dfl.conv.weight'\n",
      "\u001b[34m\u001b[1mAMP: \u001b[0mrunning Automatic Mixed Precision (AMP) checks...\n",
      "\u001b[34m\u001b[1mAMP: \u001b[0mchecks passed ✅\n"
     ]
    },
    {
     "name": "stderr",
     "output_type": "stream",
     "text": [
      "\u001b[34m\u001b[1mtrain: \u001b[0mScanning /home/j4012-ind/repos/hse_dl_project/dataset/yolo/labels/train.cache... 14254 images, 1577 backgrounds, 0 corrupt: 100%|██████████| 14254/14254 [00:00<?, ?it/s]\n"
     ]
    },
    {
     "name": "stdout",
     "output_type": "stream",
     "text": [
      "\u001b[34m\u001b[1malbumentations: \u001b[0mBlur(p=0.01, blur_limit=(3, 7)), MedianBlur(p=0.01, blur_limit=(3, 7)), ToGray(p=0.01, num_output_channels=3, method='weighted_average'), CLAHE(p=0.01, clip_limit=(1.0, 4.0), tile_grid_size=(8, 8))\n"
     ]
    },
    {
     "name": "stderr",
     "output_type": "stream",
     "text": [
      "/home/j4012-ind/.local/lib/python3.8/site-packages/albumentations/__init__.py:13: UserWarning: A new version of Albumentations is available: 2.0.0 (you have 1.4.18). Upgrade using: pip install -U albumentations. To disable automatic update checks, set the environment variable NO_ALBUMENTATIONS_UPDATE to 1.\n",
      "  check_for_updates()\n",
      "\u001b[34m\u001b[1mval: \u001b[0mScanning /home/j4012-ind/repos/hse_dl_project/dataset/yolo/labels/val.cache... 3057 images, 339 backgrounds, 0 corrupt: 100%|██████████| 3057/3057 [00:00<?, ?it/s]\n"
     ]
    },
    {
     "name": "stdout",
     "output_type": "stream",
     "text": [
      "Plotting labels to runs/detect/train3/labels.jpg... \n",
      "\u001b[34m\u001b[1moptimizer:\u001b[0m 'optimizer=auto' found, ignoring 'lr0=0.01' and 'momentum=0.937' and determining best 'optimizer', 'lr0' and 'momentum' automatically... \n",
      "\u001b[34m\u001b[1moptimizer:\u001b[0m AdamW(lr=0.002, momentum=0.9) with parameter groups 106 weight(decay=0.0), 113 weight(decay=0.0005), 112 bias(decay=0.0)\n",
      "\u001b[34m\u001b[1mTensorBoard: \u001b[0mmodel graph visualization added ✅\n",
      "Image sizes 640 train, 640 val\n",
      "Using 8 dataloader workers\n",
      "Logging results to \u001b[1mruns/detect/train3\u001b[0m\n",
      "Starting training for 1 epochs...\n",
      "\n",
      "      Epoch    GPU_mem   box_loss   cls_loss   dfl_loss  Instances       Size\n"
     ]
    },
    {
     "name": "stderr",
     "output_type": "stream",
     "text": [
      "        1/1      9.12G      3.007      7.453       1.59         23        640:   0%|          | 3/891 [00:38<2:44:52, 11.14s/it]"
     ]
    }
   ],
   "source": [
    "model.train(data=\"../dataset/yolo/data.yaml\", epochs=1)"
   ]
  },
  {
   "cell_type": "code",
   "execution_count": null,
   "metadata": {},
   "outputs": [],
   "source": []
  }
 ],
 "metadata": {
  "kernelspec": {
   "display_name": "Python 3",
   "language": "python",
   "name": "python3"
  },
  "language_info": {
   "codemirror_mode": {
    "name": "ipython",
    "version": 3
   },
   "file_extension": ".py",
   "mimetype": "text/x-python",
   "name": "python",
   "nbconvert_exporter": "python",
   "pygments_lexer": "ipython3",
   "version": "3.8.10"
  }
 },
 "nbformat": 4,
 "nbformat_minor": 2
}
